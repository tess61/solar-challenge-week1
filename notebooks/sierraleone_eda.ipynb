{
 "cells": [
  {
   "cell_type": "code",
   "execution_count": null,
   "id": "4e9014dc",
   "metadata": {
    "vscode": {
     "languageId": "plaintext"
    }
   },
   "outputs": [],
   "source": [
    "import pandas as pd\n",
    "import numpy as np\n",
    "import seaborn as sns\n",
    "import matplotlib.pyplot as plt\n",
    "from scipy.stats import zscore\n",
    "\n",
    "# Load the data\n",
    "df = pd.read_csv('../data/sierraleone-bumbuna.csv', parse_dates=['Timestamp'])\n",
    "\n",
    "# --- Summary Statistics & Missing Values ---\n",
    "display(df.describe())\n",
    "missing = df.isna().sum()\n",
    "print(\"Columns with missing values > 5%:\")\n",
    "print((missing / len(df) * 100)[(missing / len(df)) > 0.05])\n",
    "\n",
    "# --- Outlier Detection ---\n",
    "z_cols = ['GHI', 'DNI', 'DHI', 'ModA', 'ModB', 'WS', 'WSgust']\n",
    "z_scores = df[z_cols].apply(zscore)\n",
    "df['outlier'] = (z_scores.abs() > 3).any(axis=1)\n",
    "\n",
    "# --- Cleaning: Impute or drop ---\n",
    "for col in z_cols:\n",
    "    df[col].fillna(df[col].median(), inplace=True)\n",
    "\n",
    "df_clean = df[~df['outlier']].copy()\n",
    "\n",
    "# --- Export Cleaned Data ---\n",
    "df_clean.to_csv('../data/sierraleone_clean.csv', index=False)\n",
    "\n",
    "# --- Time Series Plot ---\n",
    "df.set_index('Timestamp')[['GHI', 'DNI', 'DHI', 'Tamb']].plot(figsize=(14,6), title='Solar Irradiance and Temp Over Time')\n",
    "\n",
    "# --- Cleaning Effect ---\n",
    "df['cleaned'] = ~df['outlier']\n",
    "df.groupby('cleaned')[['ModA', 'ModB']].mean().plot(kind='bar', title='Average ModA and ModB Pre/Post Cleaning')\n",
    "\n",
    "# --- Correlation Heatmap ---\n",
    "corr_cols = ['GHI', 'DNI', 'DHI', 'TModA', 'TModB']\n",
    "sns.heatmap(df_clean[corr_cols].corr(), annot=True, cmap='coolwarm')\n",
    "plt.title('Correlation Heatmap')\n",
    "\n",
    "# --- Scatter Plots ---\n",
    "sns.scatterplot(x='WS', y='GHI', data=df_clean)\n",
    "plt.title('Wind Speed vs GHI')\n",
    "plt.figure()\n",
    "sns.scatterplot(x='RH', y='Tamb', data=df_clean)\n",
    "plt.title('RH vs Tamb')\n",
    "\n",
    "# --- Histograms ---\n",
    "df_clean['GHI'].hist(bins=30)\n",
    "plt.title('GHI Histogram')\n",
    "plt.figure()\n",
    "df_clean['WS'].hist(bins=30)\n",
    "plt.title('WS Histogram')\n",
    "\n",
    "# --- Bubble Chart ---\n",
    "plt.scatter(df_clean['GHI'], df_clean['Tamb'], s=df_clean['RH'], alpha=0.5)\n",
    "plt.title('GHI vs Tamb (Bubble = RH)')\n",
    "plt.xlabel('GHI')\n",
    "plt.ylabel('Tamb')"
   ]
  }
 ],
 "metadata": {
  "language_info": {
   "name": "python"
  }
 },
 "nbformat": 4,
 "nbformat_minor": 5
}
